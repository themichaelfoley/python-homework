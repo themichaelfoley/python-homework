{
 "cells": [
  {
   "cell_type": "code",
   "execution_count": 8,
   "id": "e99e391a-fb80-43b1-a05b-80b589123f47",
   "metadata": {},
   "outputs": [
    {
     "ename": "FileNotFoundError",
     "evalue": "[Errno 2] No such file or directory: 'budget_data.csv'",
     "output_type": "error",
     "traceback": [
      "\u001b[1;31m---------------------------------------------------------------------------\u001b[0m",
      "\u001b[1;31mFileNotFoundError\u001b[0m                         Traceback (most recent call last)",
      "\u001b[1;32m~\\AppData\\Local\\Temp\\ipykernel_1508\\4260972797.py\u001b[0m in \u001b[0;36m<module>\u001b[1;34m\u001b[0m\n\u001b[0;32m     21\u001b[0m \u001b[1;31m# Open the CSV using the set path PyBankcsv\u001b[0m\u001b[1;33m\u001b[0m\u001b[1;33m\u001b[0m\u001b[1;33m\u001b[0m\u001b[0m\n\u001b[0;32m     22\u001b[0m \u001b[1;33m\u001b[0m\u001b[0m\n\u001b[1;32m---> 23\u001b[1;33m \u001b[1;32mwith\u001b[0m \u001b[0mopen\u001b[0m\u001b[1;33m(\u001b[0m\u001b[0mPyBankcsv\u001b[0m\u001b[1;33m,\u001b[0m \u001b[0mnewline\u001b[0m\u001b[1;33m=\u001b[0m\u001b[1;34m\"\"\u001b[0m\u001b[1;33m)\u001b[0m \u001b[1;32mas\u001b[0m \u001b[0mcsvfile\u001b[0m\u001b[1;33m:\u001b[0m\u001b[1;33m\u001b[0m\u001b[1;33m\u001b[0m\u001b[0m\n\u001b[0m\u001b[0;32m     24\u001b[0m     \u001b[0mcsvreader\u001b[0m \u001b[1;33m=\u001b[0m \u001b[0mcsv\u001b[0m\u001b[1;33m.\u001b[0m\u001b[0mreader\u001b[0m\u001b[1;33m(\u001b[0m\u001b[0mcsvfile\u001b[0m\u001b[1;33m,\u001b[0m \u001b[0mdelimiter\u001b[0m\u001b[1;33m=\u001b[0m\u001b[1;34m\",\"\u001b[0m\u001b[1;33m)\u001b[0m\u001b[1;33m\u001b[0m\u001b[1;33m\u001b[0m\u001b[0m\n\u001b[0;32m     25\u001b[0m     \u001b[0mcsv_header\u001b[0m \u001b[1;33m=\u001b[0m \u001b[0mnext\u001b[0m\u001b[1;33m(\u001b[0m\u001b[0mcsvreader\u001b[0m\u001b[1;33m)\u001b[0m\u001b[1;33m\u001b[0m\u001b[1;33m\u001b[0m\u001b[0m\n",
      "\u001b[1;31mFileNotFoundError\u001b[0m: [Errno 2] No such file or directory: 'budget_data.csv'"
     ]
    }
   ],
   "source": [
    "import os\n",
    "import csv\n",
    "\n",
    "# Objective 2: Set the path for the CSV file in PyBankcsv\n",
    "\n",
    "PyBankcsv = os.path.join(\"budget_data.csv\")\n",
    "\n",
    "# Objective 3: Create the lists to store data. \n",
    "\n",
    "profit = []\n",
    "monthly_changes = []\n",
    "date = []\n",
    "\n",
    "# Initialize the variables as required.\n",
    " \n",
    "count = 0\n",
    "total_profit = 0\n",
    "total_change_profits = 0\n",
    "initial_profit = 0\n",
    "\n",
    "# Open the CSV using the set path PyBankcsv\n",
    "\n",
    "with open(PyBankcsv, newline=\"\") as csvfile:\n",
    "    csvreader = csv.reader(csvfile, delimiter=\",\")\n",
    "    csv_header = next(csvreader)\n",
    "\n",
    "    # Conducting the ask\n",
    "    for row in csvreader:    \n",
    "      # Use count to count the number months in this dataset\n",
    "      count = count + 1 \n",
    "\n",
    "      # Will need it when collecting the greatest increase and decrease in profits\n",
    "      date.append(row[0])\n",
    "\n",
    "      # Append the profit information & calculate the total profit\n",
    "      profit.append(row[1])\n",
    "      total_profit = total_profit + int(row[1])\n",
    "\n",
    "      #Calculate the average change in profits from month to month. Then calulate the average change in profits\n",
    "      final_profit = int(row[1])\n",
    "      monthly_change_profits = final_profit - initial_profit\n",
    "\n",
    "      #Store these monthly changes in a list\n",
    "      monthly_changes.append(monthly_change_profits)\n",
    "\n",
    "      total_change_profits = total_change_profits + monthly_change_profits\n",
    "      initial_profit = final_profit\n",
    "\n",
    "      #Calculate the average change in profits\n",
    "      average_change_profits = (total_change_profits/count)\n",
    "      \n",
    "      #Find the max and min change in profits and the corresponding dates these changes were obeserved\n",
    "      greatest_increase_profits = max(monthly_changes)\n",
    "      greatest_decrease_profits = min(monthly_changes)\n",
    "\n",
    "      increase_date = date[monthly_changes.index(greatest_increase_profits)]\n",
    "      decrease_date = date[monthly_changes.index(greatest_decrease_profits)]\n",
    "      \n",
    "    print(\"----------------------------------------------------------\")\n",
    "    print(\"Financial Analysis\")\n",
    "    print(\"----------------------------------------------------------\")\n",
    "    print(\"Total Months: \" + str(count))\n",
    "    print(\"Total Profits: \" + \"$\" + str(total_profit))\n",
    "    print(\"Average Change: \" + \"$\" + str(int(average_change_profits)))\n",
    "    print(\"Greatest Increase in Profits: \" + str(increase_date) + \" ($\" + str(greatest_increase_profits) + \")\")\n",
    "    print(\"Greatest Decrease in Profits: \" + str(decrease_date) + \" ($\" + str(greatest_decrease_profits)+ \")\")\n",
    "    print(\"----------------------------------------------------------\")\n"
   ]
  },
  {
   "cell_type": "code",
   "execution_count": null,
   "id": "49197f6f-abd3-49d6-af23-4e8b5e844ada",
   "metadata": {},
   "outputs": [],
   "source": []
  }
 ],
 "metadata": {
  "kernelspec": {
   "display_name": "Python 3 (ipykernel)",
   "language": "python",
   "name": "python3"
  },
  "language_info": {
   "codemirror_mode": {
    "name": "ipython",
    "version": 3
   },
   "file_extension": ".py",
   "mimetype": "text/x-python",
   "name": "python",
   "nbconvert_exporter": "python",
   "pygments_lexer": "ipython3",
   "version": "3.7.11"
  }
 },
 "nbformat": 4,
 "nbformat_minor": 5
}
