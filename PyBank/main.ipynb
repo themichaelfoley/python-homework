{
 "cells": [
  {
   "cell_type": "code",
   "execution_count": 611,
   "id": "357f735e-955e-4000-acfb-5272c5bc6d70",
   "metadata": {},
   "outputs": [
    {
     "name": "stdout",
     "output_type": "stream",
     "text": [
      "Financial Analysis - PyBank HW2\n"
     ]
    }
   ],
   "source": [
    "print(\"Financial Analysis - PyBank HW2\")"
   ]
  },
  {
   "cell_type": "code",
   "execution_count": 612,
   "id": "05e166e2-14d9-4eae-a4e5-4552603da069",
   "metadata": {},
   "outputs": [],
   "source": [
    "import csv # Import csv file with dates and profit/loss\n",
    "import os  # Make operating systems happy\n",
    "\n",
    "# Empty lists to store looped data in\n",
    "months = []\n",
    "profit = []\n",
    "change_PNL = []\n",
    "\n",
    "#Make initial variables to use in code\n",
    "count = 0\n",
    "total_profit = 0\n",
    "change_profit = 0\n",
    "max_increase_profit = 0\n",
    "max_decrease_profit = 0\n",
    "\n",
    "#Added these after needing more variables\n",
    "previous_profit = 0\n",
    "current_profit = 0\n",
    "M2M_change_PNL = 0 \n",
    "total_changeM2M = 0 #needed to divide by number of months(count)\n",
    "\n",
    "\n"
   ]
  },
  {
   "cell_type": "code",
   "execution_count": 613,
   "id": "51802cc7-2e2b-4dd3-8d10-071f2176a421",
   "metadata": {},
   "outputs": [],
   "source": [
    "with open('budget_data.csv') as csv_file: #Opening the csv file\n",
    "    csv_reader = csv.reader(csv_file, delimiter= ',') #set delimiter to comma for the data set\n",
    "    csv_header = next(csv_reader) #skip the first line in the date set so you can access the dates and profit.\n",
    "    \n",
    "    for row in csv_reader: # made 'for' loop to run through each row of data of opened file\n",
    "        \n",
    "        #1 The total number of months included in the dataset.\n",
    "        count = count + 1 # use count function to get the total number of months\n",
    "       \n",
    "        months.append(row[0]) #store index position zero in months list for later increase/decrease comparison\n",
    "        profit.append(row[1]) #store index position one in profit list for total profit, avg change in PNL, and increase/decrease\n",
    "        \n",
    "        #2 The net total amount of Profit/Losses over the entire period.\n",
    "        total_profit = total_profit + int(row[1]) # data is a \"string\", used int to count the profit; store value in variable.\n",
    "        \n",
    "        #3 The average of the changes in Profit/Losses over the entire period.\n",
    "        current_profit = int(row[1]) # get current profit amount in loop to subtract previous amount in loop (will be stored in list to get average)\n",
    "        M2M_change_PNL = current_profit - previous_profit #above\n",
    "        change_PNL.append(M2M_change_PNL) # store result for each month in variable so we can append the list\n",
    "\n",
    "        total_changeM2M = total_changeM2M + M2M_change_PNL #new variable to store changes to divide by count(number of months) to get average\n",
    "        previous_profit = current_profit # resets the variable for the next iteration in the loop\n",
    "        avg_change_profit = (total_changeM2M/count)\n",
    "\n",
    "        #4 The greatest increase in profits (date and amount) over the entire period.\n",
    "        max_increase_profit = max(change_PNL) #use max operator to find the highest number\n",
    "        date_maxIP = months[change_PNL.index(max_increase_profit)]\n",
    "\n",
    "        #5 The greatest decrease in losses (date and amount) over the entire period.\n",
    "        max_decrease_profit = min(change_PNL) #use the min operator to find the lowest number (will be a negative, representing a loss/ max decrease profit)\n",
    "        date_maxDP = months[change_PNL.index(max_decrease_profit)]\n",
    "\n",
    "\n",
    "\n",
    "\n",
    "\n",
    "\n"
   ]
  },
  {
   "cell_type": "code",
   "execution_count": 614,
   "id": "be406dbe",
   "metadata": {},
   "outputs": [
    {
     "name": "stdout",
     "output_type": "stream",
     "text": [
      "Financial Analysis\n",
      "_________________________\n",
      "Total Months: 86\n",
      "Total Profit: $38382578\n",
      "Average Change in Profit: $7803.48\n",
      "Greatest Increase In Profits: Feb-2012 ($1926159)\n",
      "Greatest Decrease In Profits: Sep-2013 ($-2196167)\n",
      "_________________________\n"
     ]
    }
   ],
   "source": [
    "#Print out all the statements\n",
    "#Need to make variables a \"string\" from integer to print; use 'str()'\n",
    "#Note - tried f\"string\" and had brackets. Use + to join.\n",
    "\n",
    "\n",
    "print(\"Financial Analysis\")\n",
    "print(\"_________________________\") #use underscore for line break (looks pretty)\n",
    "print(\"Total Months: \" + str(count))\n",
    "print(\"Total Profit: \" + \"$\" + str(total_profit))\n",
    "print(\"Average Change in Profit: \" + \"$\" + str(round(avg_change_profit,2)))\n",
    "print(\"Greatest Increase In Profits: \" + str(date_maxIP) + \" ($\" + str(max_increase_profit) + \")\")\n",
    "print(\"Greatest Decrease In Profits: \" + str(date_maxDP) + \" ($\" + str(max_decrease_profit) + \")\")\n",
    "print(\"_________________________\")\n",
    "\n"
   ]
  },
  {
   "cell_type": "code",
   "execution_count": 615,
   "id": "dd149468",
   "metadata": {},
   "outputs": [],
   "source": [
    "with open(\"Financial_Analysis.txt\", \"w\") as text:\n",
    "\n",
    "    text.write(\"Financial Analysis\" + \"\\n\")\n",
    "    text.write(\"_________________________\\n\\n\") \n",
    "    text.write(\"Total Months: \" + str(count) + \"\\n\")\n",
    "    text.write(\"Total Profit: \" + \"$\" + str(total_profit) + \"\\n\")\n",
    "    text.write(\"Average Change in Profit: \" + \"$\" + str(round(avg_change_profit,2)) + \"\\n\") \n",
    "    text.write(\"Greatest Increase In Profits: \" + str(date_maxIP) + \" ($\" + str(max_increase_profit) + \")\" + \"\\n\")\n",
    "    text.write(\"Greatest Decrease In Profits: \" + str(date_maxDP) + \" ($\" + str(max_decrease_profit) + \")\" + \"\\n\")\n",
    "    text.write(\"_________________________\")"
   ]
  }
 ],
 "metadata": {
  "kernelspec": {
   "display_name": "Python 3 (ipykernel)",
   "language": "python",
   "name": "python3"
  },
  "language_info": {
   "codemirror_mode": {
    "name": "ipython",
    "version": 3
   },
   "file_extension": ".py",
   "mimetype": "text/x-python",
   "name": "python",
   "nbconvert_exporter": "python",
   "pygments_lexer": "ipython3",
   "version": "3.7.11"
  }
 },
 "nbformat": 4,
 "nbformat_minor": 5
}
